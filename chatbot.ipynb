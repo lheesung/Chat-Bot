{
 "cells": [
  {
   "cell_type": "code",
   "execution_count": null,
   "metadata": {},
   "outputs": [],
   "source": [
    "!pip3 install pandas\n",
    "!pip3 install sentence_transformers\n",
    "!pip3 install sklearn"
   ]
  },
  {
   "cell_type": "code",
   "execution_count": 111,
   "metadata": {},
   "outputs": [],
   "source": [
    "import pandas as pd\n",
    "from sentence_transformers import SentenceTransformer\n",
    "from sklearn.metrics.pairwise import cosine_similarity"
   ]
  },
  {
   "cell_type": "code",
   "execution_count": null,
   "metadata": {},
   "outputs": [],
   "source": [
    "model = SentenceTransformer('jhgan/ko-sroberta-multitask')\n",
    "df = pd.read_csv('Chat-bot-data - 시트1 (3).csv')\n",
    "df['embedding'] = df['유저'].map(lambda x: list(model.encode(x)))\n",
    "df.tail()"
   ]
  },
  {
   "cell_type": "code",
   "execution_count": 113,
   "metadata": {},
   "outputs": [],
   "source": [
    "df.to_csv('chatBot-data.csv', index= False)"
   ]
  },
  {
   "cell_type": "code",
   "execution_count": 114,
   "metadata": {},
   "outputs": [],
   "source": [
    "user = \"뭐 배워요?\"\n",
    "embedding = model.encode(user)"
   ]
  },
  {
   "cell_type": "code",
   "execution_count": 115,
   "metadata": {},
   "outputs": [
    {
     "data": {
      "text/html": [
       "<div>\n",
       "<style scoped>\n",
       "    .dataframe tbody tr th:only-of-type {\n",
       "        vertical-align: middle;\n",
       "    }\n",
       "\n",
       "    .dataframe tbody tr th {\n",
       "        vertical-align: top;\n",
       "    }\n",
       "\n",
       "    .dataframe thead th {\n",
       "        text-align: right;\n",
       "    }\n",
       "</style>\n",
       "<table border=\"1\" class=\"dataframe\">\n",
       "  <thead>\n",
       "    <tr style=\"text-align: right;\">\n",
       "      <th></th>\n",
       "      <th>구분</th>\n",
       "      <th>유저</th>\n",
       "      <th>챗봇</th>\n",
       "      <th>embedding</th>\n",
       "      <th>distance</th>\n",
       "    </tr>\n",
       "  </thead>\n",
       "  <tbody>\n",
       "    <tr>\n",
       "      <th>50</th>\n",
       "      <td>질의응답</td>\n",
       "      <td>교원은 몇명인가요?</td>\n",
       "      <td>2022년 5월 기준 33명입니다.</td>\n",
       "      <td>[-0.7230971, -0.361, -0.15000114, -0.9236625, ...</td>\n",
       "      <td>0.451409</td>\n",
       "    </tr>\n",
       "    <tr>\n",
       "      <th>51</th>\n",
       "      <td>질의응답</td>\n",
       "      <td>학생수는 몇명인가요?</td>\n",
       "      <td>한 학년에 64명 총 4반입니다.</td>\n",
       "      <td>[-0.050343283, -0.4760519, -0.0058634877, -0.7...</td>\n",
       "      <td>0.453220</td>\n",
       "    </tr>\n",
       "    <tr>\n",
       "      <th>52</th>\n",
       "      <td>질의응답</td>\n",
       "      <td>한 학년에 몇명인가요?</td>\n",
       "      <td>한 학년에 64명 총 4반입니다.</td>\n",
       "      <td>[-0.15919161, 0.05688845, -0.12775037, -0.5552...</td>\n",
       "      <td>0.449701</td>\n",
       "    </tr>\n",
       "    <tr>\n",
       "      <th>53</th>\n",
       "      <td>질의응답</td>\n",
       "      <td>소마고를 소개해주세요</td>\n",
       "      <td>부산소프트웨어마이스터고등학교 4차 산업혁명 핵심기술의 근간은 ‘SW’로 글로벌 시장...</td>\n",
       "      <td>[0.25472456, -0.11874179, 0.13280636, 0.208262...</td>\n",
       "      <td>0.206237</td>\n",
       "    </tr>\n",
       "    <tr>\n",
       "      <th>54</th>\n",
       "      <td>질의응답</td>\n",
       "      <td>남녀 성비는 어떻게 되나요?</td>\n",
       "      <td>남자 65%, 여자 35% 입니다.</td>\n",
       "      <td>[-0.4812421, -0.5027362, -0.3469919, -0.057896...</td>\n",
       "      <td>0.242683</td>\n",
       "    </tr>\n",
       "  </tbody>\n",
       "</table>\n",
       "</div>"
      ],
      "text/plain": [
       "      구분               유저                                                 챗봇  \\\n",
       "50  질의응답       교원은 몇명인가요?                                2022년 5월 기준 33명입니다.   \n",
       "51  질의응답      학생수는 몇명인가요?                                 한 학년에 64명 총 4반입니다.   \n",
       "52  질의응답     한 학년에 몇명인가요?                                 한 학년에 64명 총 4반입니다.   \n",
       "53  질의응답      소마고를 소개해주세요  부산소프트웨어마이스터고등학교 4차 산업혁명 핵심기술의 근간은 ‘SW’로 글로벌 시장...   \n",
       "54  질의응답  남녀 성비는 어떻게 되나요?                                남자 65%, 여자 35% 입니다.   \n",
       "\n",
       "                                            embedding  distance  \n",
       "50  [-0.7230971, -0.361, -0.15000114, -0.9236625, ...  0.451409  \n",
       "51  [-0.050343283, -0.4760519, -0.0058634877, -0.7...  0.453220  \n",
       "52  [-0.15919161, 0.05688845, -0.12775037, -0.5552...  0.449701  \n",
       "53  [0.25472456, -0.11874179, 0.13280636, 0.208262...  0.206237  \n",
       "54  [-0.4812421, -0.5027362, -0.3469919, -0.057896...  0.242683  "
      ]
     },
     "execution_count": 115,
     "metadata": {},
     "output_type": "execute_result"
    }
   ],
   "source": [
    "df['distance'] = df['embedding'].map(lambda x:cosine_similarity([embedding], [x]).squeeze()) # squeeze 는 차원 축소하는 메소드\n",
    "df.tail()"
   ]
  },
  {
   "cell_type": "code",
   "execution_count": null,
   "metadata": {},
   "outputs": [],
   "source": [
    "client = df.loc[df['distance'].idxmax()]\n",
    "print(client['구분'])\n",
    "print(client['유저'])\n",
    "print(client['챗봇'])\n",
    "print(client['distance'])"
   ]
  }
 ],
 "metadata": {
  "kernelspec": {
   "display_name": "Python 3",
   "language": "python",
   "name": "python3"
  },
  "language_info": {
   "codemirror_mode": {
    "name": "ipython",
    "version": 3
   },
   "file_extension": ".py",
   "mimetype": "text/x-python",
   "name": "python",
   "nbconvert_exporter": "python",
   "pygments_lexer": "ipython3",
   "version": "3.9.6"
  },
  "orig_nbformat": 4,
  "vscode": {
   "interpreter": {
    "hash": "31f2aee4e71d21fbe5cf8b01ff0e069b9275f58929596ceb00d14d90e3e16cd6"
   }
  }
 },
 "nbformat": 4,
 "nbformat_minor": 2
}
